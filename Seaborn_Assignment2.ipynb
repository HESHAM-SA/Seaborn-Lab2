{
 "cells": [
  {
   "cell_type": "code",
   "execution_count": 1,
   "id": "c84ebe50",
   "metadata": {},
   "outputs": [],
   "source": [
    "import pandas as pd\n",
    "import matplotlib.pyplot as plt"
   ]
  },
  {
   "cell_type": "markdown",
   "id": "26082b5c",
   "metadata": {},
   "source": [
    "# Q1: Import seaborn library"
   ]
  },
  {
   "cell_type": "code",
   "execution_count": 2,
   "id": "5e9c17e2",
   "metadata": {},
   "outputs": [],
   "source": [
    "# write your code here ^_^\n",
    "import seaborn as sns"
   ]
  },
  {
   "cell_type": "code",
   "execution_count": 4,
   "id": "9782de3b",
   "metadata": {},
   "outputs": [
    {
     "data": {
      "text/html": [
       "<div>\n",
       "<style scoped>\n",
       "    .dataframe tbody tr th:only-of-type {\n",
       "        vertical-align: middle;\n",
       "    }\n",
       "\n",
       "    .dataframe tbody tr th {\n",
       "        vertical-align: top;\n",
       "    }\n",
       "\n",
       "    .dataframe thead th {\n",
       "        text-align: right;\n",
       "    }\n",
       "</style>\n",
       "<table border=\"1\" class=\"dataframe\">\n",
       "  <thead>\n",
       "    <tr style=\"text-align: right;\">\n",
       "      <th></th>\n",
       "      <th>total_bill</th>\n",
       "      <th>tip</th>\n",
       "      <th>sex</th>\n",
       "      <th>smoker</th>\n",
       "      <th>day</th>\n",
       "      <th>time</th>\n",
       "      <th>size</th>\n",
       "    </tr>\n",
       "  </thead>\n",
       "  <tbody>\n",
       "    <tr>\n",
       "      <th>0</th>\n",
       "      <td>16.99</td>\n",
       "      <td>1.01</td>\n",
       "      <td>Female</td>\n",
       "      <td>No</td>\n",
       "      <td>Sun</td>\n",
       "      <td>Dinner</td>\n",
       "      <td>2</td>\n",
       "    </tr>\n",
       "    <tr>\n",
       "      <th>1</th>\n",
       "      <td>10.34</td>\n",
       "      <td>1.66</td>\n",
       "      <td>Male</td>\n",
       "      <td>No</td>\n",
       "      <td>Sun</td>\n",
       "      <td>Dinner</td>\n",
       "      <td>3</td>\n",
       "    </tr>\n",
       "    <tr>\n",
       "      <th>2</th>\n",
       "      <td>21.01</td>\n",
       "      <td>3.50</td>\n",
       "      <td>Male</td>\n",
       "      <td>No</td>\n",
       "      <td>Sun</td>\n",
       "      <td>Dinner</td>\n",
       "      <td>3</td>\n",
       "    </tr>\n",
       "    <tr>\n",
       "      <th>3</th>\n",
       "      <td>23.68</td>\n",
       "      <td>3.31</td>\n",
       "      <td>Male</td>\n",
       "      <td>No</td>\n",
       "      <td>Sun</td>\n",
       "      <td>Dinner</td>\n",
       "      <td>2</td>\n",
       "    </tr>\n",
       "    <tr>\n",
       "      <th>4</th>\n",
       "      <td>24.59</td>\n",
       "      <td>3.61</td>\n",
       "      <td>Female</td>\n",
       "      <td>No</td>\n",
       "      <td>Sun</td>\n",
       "      <td>Dinner</td>\n",
       "      <td>4</td>\n",
       "    </tr>\n",
       "    <tr>\n",
       "      <th>...</th>\n",
       "      <td>...</td>\n",
       "      <td>...</td>\n",
       "      <td>...</td>\n",
       "      <td>...</td>\n",
       "      <td>...</td>\n",
       "      <td>...</td>\n",
       "      <td>...</td>\n",
       "    </tr>\n",
       "    <tr>\n",
       "      <th>239</th>\n",
       "      <td>29.03</td>\n",
       "      <td>5.92</td>\n",
       "      <td>Male</td>\n",
       "      <td>No</td>\n",
       "      <td>Sat</td>\n",
       "      <td>Dinner</td>\n",
       "      <td>3</td>\n",
       "    </tr>\n",
       "    <tr>\n",
       "      <th>240</th>\n",
       "      <td>27.18</td>\n",
       "      <td>2.00</td>\n",
       "      <td>Female</td>\n",
       "      <td>Yes</td>\n",
       "      <td>Sat</td>\n",
       "      <td>Dinner</td>\n",
       "      <td>2</td>\n",
       "    </tr>\n",
       "    <tr>\n",
       "      <th>241</th>\n",
       "      <td>22.67</td>\n",
       "      <td>2.00</td>\n",
       "      <td>Male</td>\n",
       "      <td>Yes</td>\n",
       "      <td>Sat</td>\n",
       "      <td>Dinner</td>\n",
       "      <td>2</td>\n",
       "    </tr>\n",
       "    <tr>\n",
       "      <th>242</th>\n",
       "      <td>17.82</td>\n",
       "      <td>1.75</td>\n",
       "      <td>Male</td>\n",
       "      <td>No</td>\n",
       "      <td>Sat</td>\n",
       "      <td>Dinner</td>\n",
       "      <td>2</td>\n",
       "    </tr>\n",
       "    <tr>\n",
       "      <th>243</th>\n",
       "      <td>18.78</td>\n",
       "      <td>3.00</td>\n",
       "      <td>Female</td>\n",
       "      <td>No</td>\n",
       "      <td>Thur</td>\n",
       "      <td>Dinner</td>\n",
       "      <td>2</td>\n",
       "    </tr>\n",
       "  </tbody>\n",
       "</table>\n",
       "<p>244 rows × 7 columns</p>\n",
       "</div>"
      ],
      "text/plain": [
       "     total_bill   tip     sex smoker   day    time  size\n",
       "0         16.99  1.01  Female     No   Sun  Dinner     2\n",
       "1         10.34  1.66    Male     No   Sun  Dinner     3\n",
       "2         21.01  3.50    Male     No   Sun  Dinner     3\n",
       "3         23.68  3.31    Male     No   Sun  Dinner     2\n",
       "4         24.59  3.61  Female     No   Sun  Dinner     4\n",
       "..          ...   ...     ...    ...   ...     ...   ...\n",
       "239       29.03  5.92    Male     No   Sat  Dinner     3\n",
       "240       27.18  2.00  Female    Yes   Sat  Dinner     2\n",
       "241       22.67  2.00    Male    Yes   Sat  Dinner     2\n",
       "242       17.82  1.75    Male     No   Sat  Dinner     2\n",
       "243       18.78  3.00  Female     No  Thur  Dinner     2\n",
       "\n",
       "[244 rows x 7 columns]"
      ]
     },
     "execution_count": 4,
     "metadata": {},
     "output_type": "execute_result"
    }
   ],
   "source": [
    "tips_dataset = sns.load_dataset('tips')"
   ]
  },
  {
   "cell_type": "markdown",
   "id": "398c4163",
   "metadata": {},
   "source": [
    "# Q2: Create a histogram, where the x-axis represents the tip column\n",
    "- Change the style to 'whitegrid'.\n",
    "- Split the data out by the day column's categories. Hint: use hue argument.\n",
    "- Handle the overlapping columns by switching the element argument over to step."
   ]
  },
  {
   "cell_type": "code",
   "execution_count": 45,
   "id": "ddbcf519",
   "metadata": {},
   "outputs": [
    {
     "data": {
      "image/png": "[encoded data removed]",
      "text/plain": [
       "<Figure size 640x480 with 1 Axes>"
      ]
     },
     "metadata": {},
     "output_type": "display_data"
    }
   ],
   "source": [
    "\n",
    "sns.set(style=\"whitegrid\")\n",
    "\n",
    "sns.histplot(data=tips_dataset, x='tip', hue='day', element='step')\n",
    "\n",
    "plt.xlabel('Tips')\n",
    "plt.ylabel('count')\n",
    "plt.suptitle('Amount of tips each day')\n",
    "plt.show()\n"
   ]
  },
  {
   "cell_type": "markdown",
   "id": "7ad49142",
   "metadata": {},
   "source": [
    "## Q2.1 Write your top three findings \n",
    "- Most Tips on Thursday \n",
    "- Specific Tip Amount on Sunday\n",
    "- Outlier Tips on Saturday"
   ]
  },
  {
   "cell_type": "markdown",
   "id": "133fd04d",
   "metadata": {},
   "source": [
    "# Q3: [Optional] Create a displot, where the x-axis represents the day column\n",
    "- Split the data out by the sex column's categories. Hint: use hue argument.\n",
    "- Handle the overlapping columns by switching the multiple argument over to 'dodge'.\n",
    "- Shrink the bars down using shrink argument to have a nice gap between each of them.\n",
    "- Change the bars color to 'Set1'.\n",
    "- Reset the hue order to ['Female', 'Male']."
   ]
  },
  {
   "cell_type": "code",
   "execution_count": 5,
   "id": "3bddf761",
   "metadata": {},
   "outputs": [],
   "source": [
    "# write your code here ^_^"
   ]
  },
  {
   "cell_type": "markdown",
   "id": "00ddb5a3",
   "metadata": {},
   "source": [
    "## Q3.1 Write your top three findings \n",
    "- \n",
    "- \n",
    "- "
   ]
  },
  {
   "cell_type": "markdown",
   "id": "a0e0188e",
   "metadata": {},
   "source": [
    "# Q4: Create a ecdf plot, where the x-axis represents the tip column\n",
    "- Change the style to 'darkgrid'.\n",
    "- Change the font scale to 1.25.\n",
    "- Split the data out by the time column's categories. Hint: use hue argument.\n",
    "- Change the lines color to 'summer'.\n",
    "- Change the line width to 3."
   ]
  },
  {
   "cell_type": "code",
   "execution_count": 6,
   "id": "b5430a51",
   "metadata": {},
   "outputs": [],
   "source": [
    "# write your code here ^_^"
   ]
  },
  {
   "cell_type": "markdown",
   "id": "dee636b8",
   "metadata": {},
   "source": [
    "## Q4.1 Write your top three findings \n",
    "- \n",
    "- \n",
    "- "
   ]
  },
  {
   "cell_type": "markdown",
   "id": "56e1e346",
   "metadata": {},
   "source": [
    "# Q5: [Optional] Create a box plot, where the x-axis represents the day column and the y-axis represents the tip column\n",
    "- Change the style to 'whitegrid'.\n",
    "- Split the data out by the sex column's categories. Hint: use hue argument.\n",
    "- Change the bars color to 'Paired'.\n",
    "- Reset the hue order to ['Female', 'Male'].\n",
    "- Change the line width to 2.5."
   ]
  },
  {
   "cell_type": "code",
   "execution_count": 7,
   "id": "9c7f4e74",
   "metadata": {},
   "outputs": [],
   "source": [
    "# write your code here ^_^"
   ]
  },
  {
   "cell_type": "markdown",
   "id": "80c9e2ed",
   "metadata": {},
   "source": [
    "## Q5.1 Write your top three findings \n",
    "- \n",
    "- \n",
    "- "
   ]
  },
  {
   "cell_type": "markdown",
   "id": "e3fde983",
   "metadata": {},
   "source": [
    "# Q6: Create a violin plot, where the x-axis represents the time column and the y-axis represents the tip column\n",
    "- Split the data out by the sex column's categories. Hint: use hue argument.\n",
    "- Split the violin so that each violin contains both sex column's categories. Hint: use split argument.\n",
    "- Change the shape of the inner part of the violin to 'quartiles'.\n",
    "- Change the violin color to 'Pastel1'.\n",
    "- Reset the hue order to ['Female', 'Male'].\n",
    "- Change the line width to 2.\n",
    "- Change the legend's location to The upper left."
   ]
  },
  {
   "cell_type": "code",
   "execution_count": 8,
   "id": "de02b00b",
   "metadata": {},
   "outputs": [],
   "source": [
    "# write your code here ^_^"
   ]
  },
  {
   "cell_type": "markdown",
   "id": "d687a920",
   "metadata": {},
   "source": [
    "## Q6.1 Write your top three findings \n",
    "- \n",
    "- \n",
    "- "
   ]
  },
  {
   "cell_type": "markdown",
   "id": "cc3b497b",
   "metadata": {},
   "source": [
    "# Q7: [Optional] Create a swarm plot, where the x-axis represents the time column and the y-axis represents the total_bill column\n",
    "- Split the data out by the size column's categories. Hint: use hue argument."
   ]
  },
  {
   "cell_type": "code",
   "execution_count": 9,
   "id": "ce5c8d45",
   "metadata": {},
   "outputs": [],
   "source": [
    "# write your code here ^_^"
   ]
  },
  {
   "cell_type": "markdown",
   "id": "64754548",
   "metadata": {},
   "source": [
    "## Q7.1 Write your top three findings \n",
    "- \n",
    "- \n",
    "- "
   ]
  },
  {
   "cell_type": "markdown",
   "id": "b1a013fd",
   "metadata": {},
   "source": [
    "# Q8: Create a correlation heatmap \n",
    "- Adjust the figure's size to be (8,5).\n",
    "- Change the color map to 'RdBu'.\n",
    "- Add annotations to the heatmap.\n",
    "- Set the minimum value to be -1.\n",
    "- Set the maximum value to be 1."
   ]
  },
  {
   "cell_type": "code",
   "execution_count": 10,
   "id": "08c28a8b",
   "metadata": {},
   "outputs": [],
   "source": [
    "# write your code here ^_^"
   ]
  },
  {
   "cell_type": "markdown",
   "id": "284e0791",
   "metadata": {},
   "source": [
    "## Q8.1 Write your top three findings \n",
    "- \n",
    "- \n",
    "- "
   ]
  }
 ],
 "metadata": {
  "kernelspec": {
   "display_name": "Python 3 (ipykernel)",
   "language": "python",
   "name": "python3"
  },
  "language_info": {
   "codemirror_mode": {
    "name": "ipython",
    "version": 3
   },
   "file_extension": ".py",
   "mimetype": "text/x-python",
   "name": "python",
   "nbconvert_exporter": "python",
   "pygments_lexer": "ipython3",
   "version": "3.10.9"
  }
 },
 "nbformat": 4,
 "nbformat_minor": 5
}
